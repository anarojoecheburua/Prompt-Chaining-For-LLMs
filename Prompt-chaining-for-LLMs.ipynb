{
 "cells": [
  {
   "cell_type": "markdown",
   "metadata": {},
   "source": [
    "# How to Implement Prompt Chaining\n",
    "Implementing prompt chaining involves a systematic approach to breaking down a complex task and guiding an LLM through a series of well-defined steps. "
   ]
  },
  {
   "cell_type": "markdown",
   "metadata": {},
   "source": [
    "### Step 1: Setting Up the Environment\n",
    "First, we need to import the required libraries. We'll use the `OpenAI` class from the `openai` package and `os` for handling environment variables."
   ]
  },
  {
   "cell_type": "code",
   "execution_count": 59,
   "metadata": {},
   "outputs": [],
   "source": [
    "import os\n",
    "from openai import OpenAI"
   ]
  },
  {
   "cell_type": "markdown",
   "metadata": {},
   "source": [
    "Storing sensitive information, like API keys, securely is crucial. One way to achieve this is by setting the API key as an environment variable. You can do it by using an OpenAI API key."
   ]
  },
  {
   "cell_type": "code",
   "execution_count": 46,
   "metadata": {},
   "outputs": [],
   "source": [
    "os.environ[\"OPENAI_API_KEY\"] = 'your-api-key-here'"
   ]
  },
  {
   "cell_type": "markdown",
   "metadata": {},
   "source": [
    "Make sure to replace `'your-api-key-here'` with your actual OpenAI API key!\n",
    "\n",
    "With the API key set, you can now initialize the OpenAI client. This client will be used to make API calls to OpenAI’s services.\n"
   ]
  },
  {
   "cell_type": "code",
   "execution_count": null,
   "metadata": {},
   "outputs": [],
   "source": [
    "# Initialize the OpenAI client\n",
    "client = OpenAI()"
   ]
  },
  {
   "cell_type": "markdown",
   "metadata": {},
   "source": [
    "### Step 2: Defining a function to interact with OpenAI's chat completions API.\n",
    "Now, we’ll create a Python function to interact with OpenAI's chat completions API. This function will send a prompt to the API and return the generated response."
   ]
  },
  {
   "cell_type": "code",
   "execution_count": null,
   "metadata": {},
   "outputs": [],
   "source": [
    "def get_completion(prompt, model=\"gpt-3.5-turbo\"):\n",
    "    try:\n",
    "        response = client.chat.completions.create(\n",
    "            model=model,\n",
    "            messages=[\n",
    "                {\"role\": \"system\", \"content\": \"You are a helpful assistant.\"},\n",
    "                {\"role\": \"user\", \"content\": prompt}\n",
    "            ],\n",
    "            temperature=0,\n",
    "        )\n",
    "        return response.choices[0].message.content\n",
    "    except Exception as e:\n",
    "        print(f\"An error occurred: {e}\")\n",
    "        return None"
   ]
  },
  {
   "cell_type": "markdown",
   "metadata": {},
   "source": [
    "This function takes a prompt and an optional model parameter, makes an API call to OpenAI using the chat completions endpoint, sets up the conversation with a system message and a user message (the prompt), and sets the temperature to 0 for more deterministic outputs. It returns the content of the response or None if an error occurs."
   ]
  },
  {
   "cell_type": "markdown",
   "metadata": {},
   "source": [
    "### Step 3: Chaining Multiple Prompts\n",
    "Now we'll create a Python function that chains together multiple prompts, feeding the output of one prompt as the input to the next.\n"
   ]
  },
  {
   "cell_type": "code",
   "execution_count": null,
   "metadata": {},
   "outputs": [],
   "source": [
    "def prompt_chain(initial_prompt, follow_up_prompts):\n",
    "    result = get_completion(initial_prompt)\n",
    "    if result is None:\n",
    "        return \"Initial prompt failed.\"\n",
    "\n",
    "    print(f\"Initial output: {result}\\n\")\n",
    "\n",
    "    for i, prompt in enumerate(follow_up_prompts, 1):\n",
    "        full_prompt = f\"{prompt}\\n\\nPrevious output: {result}\"\n",
    "        result = get_completion(full_prompt)\n",
    "        if result is None:\n",
    "            return f\"Prompt {i} failed.\"\n",
    "        print(f\"Step {i} output: {result}\\n\")\n",
    "\n",
    "    return result"
   ]
  },
  {
   "cell_type": "markdown",
   "metadata": {},
   "source": [
    "This function implements prompt chaining. It starts with an initial prompt and gets its completion, then iterates through a list of follow-up prompts. For each follow-up prompt, it combines the prompt with the previous output, gets a completion for this combined prompt, and updates the result. If any step fails, it returns an error message. The output of each step is printed for visibility."
   ]
  },
  {
   "cell_type": "markdown",
   "metadata": {},
   "source": [
    "### Step 4: Example Usage\n",
    "We are now going to demonstrate how to use the `prompt_chain` function to create a sequence of prompts that build on each other. This example will focus on summarizing key trends in global temperature changes and exploring related scientific studies and mitigation strategies"
   ]
  },
  {
   "cell_type": "code",
   "execution_count": 47,
   "metadata": {},
   "outputs": [
    {
     "name": "stdout",
     "output_type": "stream",
     "text": [
      "Initial output: Over the past century, global temperatures have been steadily increasing due to human activities such as burning fossil fuels and deforestation. This has led to a rise in average global temperatures, resulting in more frequent and severe heatwaves, melting ice caps, rising sea levels, and changes in weather patterns. Scientists have observed that the rate of temperature increase has been accelerating in recent decades, highlighting the urgent need for action to mitigate climate change and its impacts.\n",
      "\n",
      "Step 1 output: Here are some major scientific studies that discuss the causes of the changes in global temperatures and climate:\n",
      "\n",
      "1. Intergovernmental Panel on Climate Change (IPCC) Reports: The IPCC regularly assesses the latest scientific research on climate change, including the causes and impacts of global warming. Their reports provide comprehensive overviews of the current state of knowledge on the subject.\n",
      "\n",
      "2. National Climate Assessment (NCA): The NCA is a US government report that evaluates the impacts of climate change on the United States. It includes discussions on the causes of climate change, including human activities like burning fossil fuels and deforestation.\n",
      "\n",
      "3. NASA Global Climate Change: NASA conducts extensive research on climate change and provides valuable insights into the causes of global warming. Their website offers a wealth of information on the topic, including data from satellite observations and climate models.\n",
      "\n",
      "4. World Meteorological Organization (WMO) Reports: The WMO regularly publishes reports on the state of the global climate, including discussions on the causes of climate change. These reports are based on the latest scientific research and observations.\n",
      "\n",
      "5. Studies on Attribution of Climate Change: There are numerous scientific studies that focus on attributing specific climate events or trends to human activities. These studies use advanced climate models and observational data to determine the extent to which human influence has contributed to changes in global temperatures and weather patterns.\n",
      "\n",
      "These studies, among others, provide valuable insights into the causes of global warming and climate change, helping to inform policymakers and the public about the urgent need for action to address these issues.\n",
      "\n",
      "Step 2 output: While the studies listed primarily focus on the causes of global warming and climate change, they also highlight the significant impact of climate change on marine ecosystems. Climate change is leading to rising sea temperatures, ocean acidification, loss of sea ice, and changes in ocean circulation patterns, all of which have profound effects on marine life. These changes are disrupting marine ecosystems, affecting biodiversity, fisheries, and the overall health of the oceans. The findings from these studies emphasize the urgent need to address climate change to protect marine ecosystems and ensure their sustainability for future generations.\n",
      "\n",
      "Step 3 output: 1. Implementing sustainable fishing practices: Overfishing is already a significant threat to marine ecosystems, and the additional stress from climate change can further exacerbate the situation. By promoting sustainable fishing practices such as implementing catch limits, protecting critical habitats, and reducing bycatch, we can help marine ecosystems better withstand the impacts of climate change.\n",
      "\n",
      "2. Establishing marine protected areas: Creating marine protected areas can help safeguard vulnerable marine species and habitats from the effects of climate change. These protected areas can serve as refuges where marine life can thrive, adapt, and potentially recover from the impacts of rising sea temperatures, ocean acidification, and other climate-related stressors.\n",
      "\n",
      "3. Promoting global climate action: Addressing the root cause of climate change is crucial for protecting marine ecosystems in the long term. By advocating for and supporting global efforts to reduce greenhouse gas emissions, transition to renewable energy sources, and mitigate the impacts of climate change, we can help minimize the threats facing marine ecosystems and ensure their sustainability for future generations.\n",
      "\n",
      "Final result: 1. Implementing sustainable fishing practices: Overfishing is already a significant threat to marine ecosystems, and the additional stress from climate change can further exacerbate the situation. By promoting sustainable fishing practices such as implementing catch limits, protecting critical habitats, and reducing bycatch, we can help marine ecosystems better withstand the impacts of climate change.\n",
      "\n",
      "2. Establishing marine protected areas: Creating marine protected areas can help safeguard vulnerable marine species and habitats from the effects of climate change. These protected areas can serve as refuges where marine life can thrive, adapt, and potentially recover from the impacts of rising sea temperatures, ocean acidification, and other climate-related stressors.\n",
      "\n",
      "3. Promoting global climate action: Addressing the root cause of climate change is crucial for protecting marine ecosystems in the long term. By advocating for and supporting global efforts to reduce greenhouse gas emissions, transition to renewable energy sources, and mitigate the impacts of climate change, we can help minimize the threats facing marine ecosystems and ensure their sustainability for future generations.\n"
     ]
    }
   ],
   "source": [
    "# Example usage\n",
    "initial_prompt = \"Summarize the key trends in global temperature changes over the past century.\"\n",
    "\n",
    "follow_up_prompts = [\n",
    "    \"Based on the trends identified, list the major scientific studies that discuss the causes of these changes.\",\n",
    "    \"Summarize the findings of the listed studies, focusing on the impact of climate change on marine ecosystems.\",\n",
    "    \"Propose three strategies to mitigate the impact of climate change on marine ecosystems based on the summarized findings.\"\n",
    "]\n",
    "\n",
    "final_result = prompt_chain(initial_prompt, follow_up_prompts)\n",
    "print(\"Final result:\", final_result)"
   ]
  },
  {
   "cell_type": "markdown",
   "metadata": {},
   "source": [
    "\n",
    "### How It Works Together\n",
    "1. The initial prompt gets a summary of temperature trends.\n",
    "2. The first follow-up uses this summary to find relevant studies.\n",
    "3. The second follow-up summarizes these studies' findings about marine ecosystems.\n",
    "4. The final prompt uses all this information to propose mitigation strategies.\n",
    "\n",
    "This chaining allows for a step-by-step approach to complex queries, where each step builds on the information from the previous steps.\n"
   ]
  },
  {
   "cell_type": "markdown",
   "metadata": {},
   "source": [
    "## Prompt Chaining Techniques\n",
    "Prompt chaining can be implemented in various ways to suit different types of tasks and requirements. Here, we explore three primary techniques: Sequential Chaining, Conditional Chaining, and Looping Chaining."
   ]
  },
  {
   "cell_type": "markdown",
   "metadata": {},
   "source": [
    "### Sequential Chaining\n",
    "Sequential chaining involves linking prompts in a straightforward, linear sequence. Each prompt depends on the output of the previous one, creating a step-by-step flow of information and tasks. This technique is ideal for tasks that require a logical progression from one stage to the next such as:\n",
    "Text Summarization: Breaking down a long document into summarized sections, then combining those summaries into a cohesive overall summary.\n",
    "Code Generation: Generating code snippets step-by-step, such as first creating function definitions, then implementing those functions, and finally writing test cases.\n",
    "\n",
    "The code snippet in the previous section is an example of sequential chaining.\n"
   ]
  },
  {
   "cell_type": "markdown",
   "metadata": {},
   "source": [
    "### Conditional Chaining\n",
    "Conditional chaining introduces branching into the prompt chain based on the LLM's output. This technique allows for more flexible and adaptable workflows, enabling the LLM to take different paths depending on the responses it generates.\n",
    "\n",
    "Let’s see how we can implement conditional chaining to perform sentiment analysis.\n"
   ]
  },
  {
   "cell_type": "code",
   "execution_count": 40,
   "metadata": {},
   "outputs": [
    {
     "name": "stdout",
     "output_type": "stream",
     "text": [
      "Initial output: Renewable energy adoption has been increasing globally in recent years, driven by a combination of factors such as environmental concerns, government policies, technological advancements, and cost competitiveness. Here are some key points to consider when analyzing the current state of renewable energy adoption:\n",
      "\n",
      "1. **Growing Capacity**: The global capacity of renewable energy sources, such as solar, wind, hydro, and geothermal, has been steadily increasing. According to the International Renewable Energy Agency (IRENA), renewable capacity grew by 176 gigawatts in 2019, reaching a total of 2,537 GW.\n",
      "\n",
      "2. **Falling Costs**: The costs of renewable energy technologies, particularly solar and wind, have been declining rapidly, making them more competitive with traditional fossil fuels. This cost reduction has been a significant driver of adoption in many countries.\n",
      "\n",
      "3. **Policy Support**: Many countries have implemented policies and incentives to promote the adoption of renewable energy, such as feed-in tariffs, tax credits, renewable portfolio standards, and carbon pricing mechanisms. These policies have helped drive investment in renewable energy projects.\n",
      "\n",
      "4. **Corporate Commitments**: Many corporations are increasingly committing to using renewable energy to power their operations. This trend is driven by both environmental concerns and cost savings, as renewable energy can provide long-term price stability compared to fossil fuels.\n",
      "\n",
      "5. **Regional Variances**: The adoption of renewable energy varies by region, with some countries leading the way in renewable energy deployment, while others are still heavily reliant on fossil fuels. Countries in Europe, such as Germany and Denmark, have made significant progress in adopting renewable energy, while countries in Asia, such as China and India, are also rapidly expanding their renewable energy capacity.\n",
      "\n",
      "6. **Challenges**: Despite the progress made in renewable energy adoption, there are still challenges that need to be addressed, such as intermittency issues with solar and wind power, grid integration challenges, and the need for energy storage solutions. Overcoming these challenges will be crucial for further accelerating the adoption of renewable energy.\n",
      "\n",
      "Overall, the current state of renewable energy adoption globally is positive, with increasing capacity, falling costs, and supportive policies driving growth in the sector. However, continued efforts will be needed to overcome challenges and further accelerate the transition to a more sustainable energy system.\n",
      "\n",
      "Sentiment: positive\n",
      "\n",
      "Final result: Based on the positive outlook and key points provided regarding the current state of renewable energy adoption, here are three potential opportunities to explore:\n",
      "\n",
      "1. **Investment in Energy Storage Solutions**: Given the intermittent nature of renewable energy sources like solar and wind, there is a growing need for effective energy storage solutions to store excess energy generated during peak production periods for use during times of low production. Exploring investment opportunities in energy storage technologies such as batteries, pumped hydro storage, and thermal energy storage could help address this challenge and further enhance the integration of renewable energy into the grid.\n",
      "\n",
      "2. **Expansion of Renewable Energy Infrastructure in Emerging Markets**: While some regions have made significant progress in adopting renewable energy, there are still many emerging markets with untapped potential for renewable energy deployment. Exploring opportunities to expand renewable energy infrastructure in these markets, leveraging policy support and technological advancements, could open up new avenues for growth and contribute to global efforts to reduce carbon emissions.\n",
      "\n",
      "3. **Collaboration with Corporations on Renewable Energy Projects**: With an increasing number of corporations committing to using renewable energy, there is an opportunity to collaborate with these entities on renewable energy projects. Partnering with corporations to develop renewable energy solutions tailored to their specific needs and sustainability goals could not only drive investment in renewable energy projects but also foster innovation and accelerate the transition to a more sustainable energy system.\n",
      "\n",
      "By exploring these opportunities and leveraging the positive trends in renewable energy adoption, there is potential to further advance the growth and impact of renewable energy on a global scale.\n"
     ]
    }
   ],
   "source": [
    "def analyze_sentiment(text):\n",
    "    prompt = f\"Analyze the sentiment of the following text and respond with only one word - 'positive', 'negative', or 'neutral': {text}\"\n",
    "    sentiment = get_completion(prompt)\n",
    "    return sentiment.strip().lower()\n",
    "\n",
    "def conditional_prompt_chain(initial_prompt):\n",
    "    result = get_completion(initial_prompt)\n",
    "    if result is None:\n",
    "        return \"Initial prompt failed.\"\n",
    "\n",
    "    print(f\"Initial output: {result}\\n\")\n",
    "\n",
    "    sentiment = analyze_sentiment(result)\n",
    "    print(f\"Sentiment: {sentiment}\\n\")\n",
    "\n",
    "    if sentiment == 'positive':\n",
    "        follow_up = \"Given this positive outlook, what are three potential opportunities we can explore?\"\n",
    "    elif sentiment == 'negative':\n",
    "        follow_up = \"Considering these challenges, what are three possible solutions we can implement?\"\n",
    "    else:  # neutral\n",
    "        follow_up = \"Based on this balanced view, what are three key areas we should focus on for a comprehensive approach?\"\n",
    "\n",
    "    final_result = get_completion(f\"{follow_up}\\n\\nContext: {result}\")\n",
    "    return final_result\n",
    "\n",
    "# Example usage\n",
    "initial_prompt = \"Analyze the current state of renewable energy adoption globally.\"\n",
    "\n",
    "final_result = conditional_prompt_chain(initial_prompt)\n",
    "print(\"Final result:\", final_result)"
   ]
  },
  {
   "cell_type": "markdown",
   "metadata": {},
   "source": [
    "First, we define a new function `analyze_sentiment()` that uses the language model to determine the sentiment of a given text. Then, in the `conditional_prompt_chain()` function, we start with the initial prompt about renewable energy adoption. After getting the initial response, we analyze its sentiment. Based on the sentiment, we choose a different follow-up prompt:\n",
    " For positive sentiment, we ask about opportunities.\n",
    " For negative sentiment, we ask about solutions.\n",
    " For neutral sentiment, we ask about key focus areas.\n",
    "\n",
    "The chosen follow-up prompt is then sent to the language model along with the context from the initial response. The final result is the response to this conditional follow-up prompt.\n",
    "\n",
    "This approach demonstrates conditional chaining because:\n",
    "The choice of the second prompt is not predetermined but depends on the content of the first response.\n",
    "The flow of the conversation adapts based on the sentiment analysis, showcasing how the chain can branch into different paths.\n",
    "It allows for more dynamic and context-aware interactions with the language model.\n"
   ]
  },
  {
   "cell_type": "markdown",
   "metadata": {},
   "source": [
    "### Looping Chaining\n",
    "Looping chaining involves creating loops within a prompt chain to iterate over data or perform repetitive tasks. This technique is useful when dealing with lists or collections of items that require similar processing steps. Some of the benefits and challenges of this approach are:\n",
    "* Efficiency: Automates repetitive tasks, saving time and effort.\n",
    "* Data Processing: Suitable for tasks like processing multiple records, batch summarization, or iterative improvements.\n",
    "* Challenges: Requires careful handling to avoid infinite loops and ensure that each iteration produces meaningful progress.\n",
    "\n",
    "Let’s see how looping chaining would be implement for a text completeness task:\n"
   ]
  },
  {
   "cell_type": "code",
   "execution_count": 48,
   "metadata": {},
   "outputs": [
    {
     "name": "stdout",
     "output_type": "stream",
     "text": [
      "Initial output: Photosynthesis is the process by which green plants, algae, and some bacteria convert light energy, usually from the sun, into chemical energy stored in glucose molecules. This process involves several steps:\n",
      "\n",
      "1. Absorption of light: Chlorophyll, a green pigment found in chloroplasts of plant cells, absorbs light energy from the sun.\n",
      "\n",
      "2. Water uptake: Plants absorb water from the soil through their roots and transport it to the chloroplasts in the leaves.\n",
      "\n",
      "3. Splitting of water: In the presence of light energy, water molecules are split into oxygen, protons, and electrons. This process is known as photolysis.\n",
      "\n",
      "4. Production of ATP and NADPH: The light energy is used to convert ADP and inorganic phosphate into ATP and to reduce NADP+ to NADPH. These molecules are energy carriers that will be used in the next steps of photosynthesis.\n",
      "\n",
      "5. Carbon dioxide fixation: Carbon dioxide from the air is taken up by the plant through small openings called stomata on the leaves. The enzyme RuBisCO catalyzes the fixation of carbon dioxide into a 3-carbon compound, resulting in the formation of 3-phosphoglycerate (3-PGA).\n",
      "\n",
      "6. Calvin cycle: The 3-PGA molecules are then converted into glyceraldehyde-3-phosphate (G3P) through a series of enzymatic reactions in the Calvin cycle. Some of the G3P molecules are used to regenerate RuBisCO and continue the cycle, while others are used to synthesize glucose and other carbohydrates.\n",
      "\n",
      "7. Release of oxygen: As a byproduct of photosynthesis, oxygen is released into the atmosphere through the stomata.\n",
      "\n",
      "Overall, photosynthesis is a crucial process for life on Earth as it provides oxygen for respiration and produces organic molecules that serve as food for plants and other organisms.\n",
      "\n",
      "Complete response achieved after 1 iterations.\n",
      "Final result: Photosynthesis is the process by which green plants, algae, and some bacteria convert light energy, usually from the sun, into chemical energy stored in glucose molecules. This process involves several steps:\n",
      "\n",
      "1. Absorption of light: Chlorophyll, a green pigment found in chloroplasts of plant cells, absorbs light energy from the sun.\n",
      "\n",
      "2. Water uptake: Plants absorb water from the soil through their roots and transport it to the chloroplasts in the leaves.\n",
      "\n",
      "3. Splitting of water: In the presence of light energy, water molecules are split into oxygen, protons, and electrons. This process is known as photolysis.\n",
      "\n",
      "4. Production of ATP and NADPH: The light energy is used to convert ADP and inorganic phosphate into ATP and to reduce NADP+ to NADPH. These molecules are energy carriers that will be used in the next steps of photosynthesis.\n",
      "\n",
      "5. Carbon dioxide fixation: Carbon dioxide from the air is taken up by the plant through small openings called stomata on the leaves. The enzyme RuBisCO catalyzes the fixation of carbon dioxide into a 3-carbon compound, resulting in the formation of 3-phosphoglycerate (3-PGA).\n",
      "\n",
      "6. Calvin cycle: The 3-PGA molecules are then converted into glyceraldehyde-3-phosphate (G3P) through a series of enzymatic reactions in the Calvin cycle. Some of the G3P molecules are used to regenerate RuBisCO and continue the cycle, while others are used to synthesize glucose and other carbohydrates.\n",
      "\n",
      "7. Release of oxygen: As a byproduct of photosynthesis, oxygen is released into the atmosphere through the stomata.\n",
      "\n",
      "Overall, photosynthesis is a crucial process for life on Earth as it provides oxygen for respiration and produces organic molecules that serve as food for plants and other organisms.\n"
     ]
    }
   ],
   "source": [
    "\n",
    "def check_completeness(text):\n",
    "    prompt = f\"Analyze the following text and respond with only 'complete' if it covers all necessary aspects, or 'incomplete' if more information is needed:\\n\\n{text}\"\n",
    "    response = get_completion(prompt)\n",
    "    return response.strip().lower() == 'complete'\n",
    "\n",
    "def looping_prompt_chain(initial_prompt, max_iterations=5):\n",
    "    current_response = get_completion(initial_prompt)\n",
    "    if current_response is None:\n",
    "        return \"Initial prompt failed.\"\n",
    "\n",
    "    print(f\"Initial output: {current_response}\\n\")\n",
    "\n",
    "    iteration = 0\n",
    "    while iteration < max_iterations:\n",
    "        if check_completeness(current_response):\n",
    "            print(f\"Complete response achieved after {iteration + 1} iterations.\")\n",
    "            return current_response\n",
    "\n",
    "        print(f\"Iteration {iteration + 1}: Response incomplete. Expanding...\")\n",
    "        expand_prompt = f\"The following response is incomplete. Please expand on it to make it more comprehensive:\\n\\n{current_response}\"\n",
    "        new_response = get_completion(expand_prompt)\n",
    "        \n",
    "        if new_response is None:\n",
    "            return f\"Expansion failed at iteration {iteration + 1}.\"\n",
    "        \n",
    "        current_response = new_response\n",
    "        print(f\"Expanded response: {current_response}\\n\")\n",
    "        iteration += 1\n",
    "\n",
    "    print(f\"Maximum iterations ({max_iterations}) reached without achieving completeness.\")\n",
    "    return current_response\n",
    "\n",
    "# Example usage\n",
    "initial_prompt = \"Explain the process of photosynthesis.\"\n",
    "\n",
    "final_result = looping_prompt_chain(initial_prompt)\n",
    "print(\"Final result:\", final_result)"
   ]
  },
  {
   "cell_type": "markdown",
   "metadata": {},
   "source": [
    "First, we define a new function `check_completeness()` that uses the language model to determine if a given response is complete or needs more information.\n",
    "Then, in the `looping_prompt_chain()` function, we start with the initial prompt about photosynthesis. After getting the initial response, we enter a loop:\n",
    " We check if the current response is complete using `check_completeness()`.\n",
    "  If it's complete, we exit the loop and return the result.\n",
    "  If it's incomplete, we generate a new prompt asking to expand on the previous response.\n",
    " We then get a new response based on this expansion prompt.\n",
    "\n",
    "This process continues until either we get a response deemed complete, or we reach the maximum number of iterations (default is 5).\n",
    "\n",
    "The loop ensures that we keep refining and expanding the response until it's considered complete or we hit the iteration limit.\n",
    "\n",
    "This approach demonstrates looping chaining because:\n",
    "It repeatedly processes and refines the output.\n",
    "The chain continues in a loop until a specific condition (completeness) is met.\n",
    "It allows for iterative improvement of the response.\n",
    "It has a safeguard (max iterations) to prevent infinite loops.\n"
   ]
  },
  {
   "cell_type": "markdown",
   "metadata": {},
   "source": [
    "## Practical Applications of Prompt Chaining\n",
    "Prompt chaining can significantly enhance the capabilities of LLMs across various applications. In this section, we explore some practical uses of prompt chaining, demonstrating how it can be applied to real-world tasks."
   ]
  },
  {
   "cell_type": "markdown",
   "metadata": {},
   "source": [
    "### Question Answering over Documents\n",
    "Prompt chaining can be used to summarize long documents and then generate answers to specific questions. This involves first breaking down the document into manageable sections, summarizing each section, and then using these summaries to answer detailed questions.\n",
    "\n",
    "Let’s see how to implement this:"
   ]
  },
  {
   "cell_type": "code",
   "execution_count": 49,
   "metadata": {},
   "outputs": [
    {
     "name": "stdout",
     "output_type": "stream",
     "text": [
      "Document split into 1 sections.\n",
      "Section 1 summarized.\n",
      "\n",
      "Q: What are the main causes of climate change mentioned in the document?\n",
      "A: The main causes of climate change mentioned in the document include greenhouse gas emissions from human activities such as burning fossil fuels, deforestation, industrial processes, and agriculture. These activities release carbon dioxide, methane, and other greenhouse gases into the atmosphere, leading to the trapping of heat and the warming of the planet.\n",
      "\n",
      "Q: What are some of the effects of climate change discussed?\n",
      "A: Some of the effects of climate change discussed in the text include rising global temperatures, melting ice caps and glaciers, sea level rise, extreme weather events such as hurricanes and droughts, shifts in ecosystems and habitats, threats to biodiversity, and impacts on agriculture and food security.\n",
      "\n",
      "Q: What solutions or strategies are proposed to address climate change?\n",
      "A: Some of the solutions or strategies proposed to address climate change include transitioning to renewable energy sources such as solar and wind power, increasing energy efficiency in buildings and transportation, implementing carbon pricing mechanisms, promoting sustainable land use practices, investing in climate-resilient infrastructure, supporting reforestation and afforestation efforts, and encouraging international cooperation through agreements like the Paris Agreement. Additionally, individual actions such as reducing energy consumption, minimizing waste, and advocating for policy changes can also contribute to combating climate change.\n"
     ]
    }
   ],
   "source": [
    "def split_document(document, max_length=1000):\n",
    "    \"\"\"Split the document into sections of approximately max_length characters.\"\"\"\n",
    "    words = document.split()\n",
    "    sections = []\n",
    "    current_section = []\n",
    "    current_length = 0\n",
    "\n",
    "    for word in words:\n",
    "        if current_length + len(word) + 1 > max_length and current_section:\n",
    "            sections.append(' '.join(current_section))\n",
    "            current_section = []\n",
    "            current_length = 0\n",
    "        current_section.append(word)\n",
    "        current_length += len(word) + 1\n",
    "\n",
    "    if current_section:\n",
    "        sections.append(' '.join(current_section))\n",
    "\n",
    "    return sections\n",
    "\n",
    "def summarize_section(section):\n",
    "    prompt = f\"Summarize the following text in a concise manner:\\n\\n{section}\"\n",
    "    return get_completion(prompt)\n",
    "\n",
    "def answer_question(summaries, question):\n",
    "    context = \"\\n\\n\".join(summaries)\n",
    "    prompt = f\"Given the following context, answer the question:\\n\\nContext:\\n{context}\\n\\nQuestion: {question}\"\n",
    "    return get_completion(prompt)\n",
    "\n",
    "def document_qa(document, questions):\n",
    "    # Step 1: Split the document\n",
    "    sections = split_document(document)\n",
    "    print(f\"Document split into {len(sections)} sections.\")\n",
    "\n",
    "    # Step 2: Summarize each section\n",
    "    summaries = []\n",
    "    for i, section in enumerate(sections):\n",
    "        summary = summarize_section(section)\n",
    "        summaries.append(summary)\n",
    "        print(f\"Section {i+1} summarized.\")\n",
    "\n",
    "    # Step 3: Answer questions\n",
    "    answers = []\n",
    "    for question in questions:\n",
    "        answer = answer_question(summaries, question)\n",
    "        answers.append((question, answer))\n",
    "\n",
    "    return answers\n",
    "\n",
    "# Example usage\n",
    "long_document = \"\"\"\n",
    "[Insert a long document here. For brevity, I'm using a placeholder. \n",
    "In a real scenario, this would be a much longer text, perhaps several \n",
    "paragraphs or pages about a specific topic.]\n",
    "\n",
    "This is a long document about climate change. It discusses various aspects \n",
    "including causes, effects, and potential solutions. The document covers \n",
    "topics such as greenhouse gas emissions, rising global temperatures, \n",
    "melting ice caps, sea level rise, extreme weather events, impact on \n",
    "biodiversity, and strategies for mitigation and adaptation.\n",
    "\n",
    "The document also explores the economic implications of climate change, \n",
    "international agreements like the Paris Agreement, renewable energy \n",
    "technologies, and the role of individual actions in combating climate change.\n",
    "\n",
    "[Continue with more detailed information about climate change...]\n",
    "\"\"\"\n",
    "\n",
    "questions = [\n",
    "    \"What are the main causes of climate change mentioned in the document?\",\n",
    "    \"What are some of the effects of climate change discussed?\",\n",
    "    \"What solutions or strategies are proposed to address climate change?\"\n",
    "]\n",
    "\n",
    "results = document_qa(long_document, questions)\n",
    "\n",
    "for question, answer in results:\n",
    "    print(f\"\\nQ: {question}\")\n",
    "    print(f\"A: {answer}\")"
   ]
  },
  {
   "cell_type": "markdown",
   "metadata": {},
   "source": [
    "This code snippet demonstrates how prompt chaining can be used for complex tasks like document analysis and question answering. It breaks down a large task (understanding a long document) into smaller, manageable steps (summarizing sections). It uses the output of one step (summaries) as input for the next (answering questions). It allows for handling documents that might be too long to process in a single prompt.\n"
   ]
  },
  {
   "cell_type": "markdown",
   "metadata": {},
   "source": [
    "### Text Generation with Fact Verification\n",
    "Text generation with fact verification involves generating text and incorporating fact-checking steps within the prompt chain. This ensures the output is not only coherent but also accurate.\n"
   ]
  },
  {
   "cell_type": "code",
   "execution_count": 50,
   "metadata": {},
   "outputs": [
    {
     "name": "stdout",
     "output_type": "stream",
     "text": [
      "Generating text about: the effects of climate change on polar bears\n",
      "\n",
      "Initial Text:\n",
      "Climate change has had a significant impact on polar bears, as the warming temperatures are causing the sea ice in the Arctic to melt at an alarming rate. This loss of sea ice makes it more difficult for polar bears to hunt for their main food source, seals, leading to decreased body condition and reproductive success. Additionally, as the ice continues to disappear, polar bears are forced to travel longer distances to find food, putting them at risk of exhaustion and starvation. Climate change is also affecting the availability of suitable denning sites for polar bear mothers, further threatening the survival of this iconic species.\n",
      "\n",
      "Extracted Facts:\n",
      "- Climate change is causing the sea ice in the Arctic to melt at an alarming rate.\n",
      "- The loss of sea ice is making it more difficult for polar bears to hunt for seals, their main food source.\n",
      "- Decreased body condition and reproductive success are being observed in polar bears due to the loss of sea ice.\n",
      "- Polar bears are forced to travel longer distances to find food as the ice continues to disappear, putting them at risk of exhaustion and starvation.\n",
      "- Climate change is affecting the availability of suitable denning sites for polar bear mothers, further endangering the species.\n",
      "\n",
      "Verified Facts:\n",
      "- - Climate change is causing the sea ice in the Arctic to melt at an alarming rate.: True\n",
      "- - The loss of sea ice is making it more difficult for polar bears to hunt for seals, their main food source.: True\n",
      "- - Decreased body condition and reproductive success are being observed in polar bears due to the loss of sea ice.: True\n",
      "- - Polar bears are forced to travel longer distances to find food as the ice continues to disappear, putting them at risk of exhaustion and starvation.: True\n",
      "- - Climate change is affecting the availability of suitable denning sites for polar bear mothers, further endangering the species.: True\n",
      "\n",
      "Revised Text:\n",
      "Climate change is indeed having a significant impact on polar bears, particularly in the Arctic region where warming temperatures are causing the sea ice to melt rapidly. This loss of sea ice is making it harder for polar bears to hunt for seals, their primary food source, leading to observed decreases in body condition and reproductive success. As a result of the disappearing ice, polar bears are being forced to travel longer distances in search of food, putting them at risk of exhaustion and starvation. Additionally, it is claimed that climate change is affecting the availability of suitable denning sites for polar bear mothers, which could further endanger the survival of this iconic species.\n"
     ]
    }
   ],
   "source": [
    "def generate_text(topic):\n",
    "    prompt = f\"Write a short paragraph about {topic}.\"\n",
    "    return get_completion(prompt)\n",
    "\n",
    "def extract_facts(text):\n",
    "    prompt = f\"Extract the key factual claims from the following text, listing each claim on a new line:\\n\\n{text}\"\n",
    "    return get_completion(prompt)\n",
    "\n",
    "def verify_facts(facts):\n",
    "    verified_facts = []\n",
    "    for fact in facts.split('\\n'):\n",
    "        if fact.strip():\n",
    "            prompt = f\"Verify the following statement and respond with 'True' if it's factually correct, 'False' if it's incorrect, or 'Uncertain' if it can't be verified without additional research: '{fact}'\"\n",
    "            verification = get_completion(prompt)\n",
    "            verified_facts.append((fact, verification.strip()))\n",
    "    return verified_facts\n",
    "\n",
    "def revise_text(original_text, verified_facts):\n",
    "    context = \"Original text:\\n\" + original_text + \"\\n\\nVerified facts:\\n\"\n",
    "    for fact, verification in verified_facts:\n",
    "        context += f\"- {fact}: {verification}\\n\"\n",
    "    \n",
    "    prompt = f\"{context}\\n\\nRewrite the original text, keeping the verified facts, removing or correcting any false information, and indicating any uncertain claims as 'It is claimed that...' or similar phrasing.\"\n",
    "    return get_completion(prompt)\n",
    "\n",
    "def text_generation_with_verification(topic):\n",
    "    print(f\"Generating text about: {topic}\")\n",
    "    \n",
    "    # Step 1: Generate initial text\n",
    "    initial_text = generate_text(topic)\n",
    "    print(\"\\nInitial Text:\")\n",
    "    print(initial_text)\n",
    "\n",
    "    # Step 2: Extract facts\n",
    "    extracted_facts = extract_facts(initial_text)\n",
    "    print(\"\\nExtracted Facts:\")\n",
    "    print(extracted_facts)\n",
    "\n",
    "    # Step 3: Verify facts\n",
    "    verified_facts = verify_facts(extracted_facts)\n",
    "    print(\"\\nVerified Facts:\")\n",
    "    for fact, verification in verified_facts:\n",
    "        print(f\"- {fact}: {verification}\")\n",
    "\n",
    "    # Step 4: Revise text\n",
    "    revised_text = revise_text(initial_text, verified_facts)\n",
    "    print(\"\\nRevised Text:\")\n",
    "    print(revised_text)\n",
    "\n",
    "    return revised_text\n",
    "\n",
    "# Example usage\n",
    "topic = \"the effects of climate change on polar bears\"\n",
    "final_text = text_generation_with_verification(topic)"
   ]
  },
  {
   "cell_type": "markdown",
   "metadata": {},
   "source": [
    "In this code, the `generate_text()` function generates an initial paragraph about the given topic. The `extract_facts()` function extracts key factual claims from the generated text. The `verify_facts()` function takes the extracted facts and verifies each one, classifying them as True, False, or Uncertain. The `revise_text()` function rewrites the original text based on the verified facts, correcting false information and indicating uncertain claims. The `text_generation_with_verification()` function orchestrates the entire process: it generates initial text about the topic, extracts facts from this text, verifies these facts, and finally revises the text based on the verified facts.\n",
    "\n",
    "The prompt chaining occurs in several steps: the initial text generation, fact extraction from the generated text, verification of each extracted fact, and revision of the text based on verified facts.\n",
    "\n",
    "This approach demonstrates how prompt chaining can be used for complex tasks like text generation with fact verification. It breaks down the task into smaller, manageable steps (generate, extract, verify, revise). Each step uses the output of the previous step as input, allowing for a systematic approach to ensuring the accuracy of generated content.\n"
   ]
  },
  {
   "cell_type": "markdown",
   "metadata": {},
   "source": [
    "### Code Generation with Debugging\n",
    "Generating code and using subsequent prompts to test and debug it can streamline the development process. This approach ensures the code not only compiles but also performs as expected.\n"
   ]
  },
  {
   "cell_type": "code",
   "execution_count": 51,
   "metadata": {},
   "outputs": [
    {
     "name": "stdout",
     "output_type": "stream",
     "text": [
      "Generating code for task: calculate the factorial of a number\n",
      "\n",
      "Initial Code:\n",
      "Here is a Python function to calculate the factorial of a number:\n",
      "\n",
      "```python\n",
      "def factorial(n):\n",
      "    # Base case: factorial of 0 is 1\n",
      "    if n == 0:\n",
      "        return 1\n",
      "    # Recursive case: calculate factorial using recursion\n",
      "    else:\n",
      "        return n * factorial(n - 1)\n",
      "\n",
      "# Test the function with an example\n",
      "number = 5\n",
      "result = factorial(number)\n",
      "print(f\"The factorial of {number} is {result}\")\n",
      "```\n",
      "\n",
      "In this code:\n",
      "- The `factorial` function takes an integer `n` as input and calculates the factorial of `n`.\n",
      "- The base case checks if `n` is 0 and returns 1, as the factorial of 0 is defined as 1.\n",
      "- In the recursive case, the function calls itself with `n-1` and multiplies the result by `n` to calculate the factorial.\n",
      "- The function is then tested with an example number (5 in this case) and the result is printed.\n",
      "\n",
      "Generated Test Cases:\n",
      "Test Case 1:\n",
      "- Input: `number = 0`\n",
      "- Expected Output: The factorial of 0 is 1\n",
      "\n",
      "Test Case 2:\n",
      "- Input: `number = 3`\n",
      "- Expected Output: The factorial of 3 is 6\n",
      "\n",
      "Test Case 3:\n",
      "- Input: `number = 7`\n",
      "- Expected Output: The factorial of 7 is 5040\n",
      "\n",
      "Test Results:\n",
      "I will run the provided Python code with the test cases and report the results.\n",
      "\n",
      "Test Case 1:\n",
      "- Input: `number = 0`\n",
      "- Expected Output: The factorial of 0 is 1\n",
      "\n",
      "Result: PASS\n",
      "\n",
      "Test Case 2:\n",
      "- Input: `number = 3`\n",
      "- Expected Output: The factorial of 3 is 6\n",
      "\n",
      "Result: PASS\n",
      "\n",
      "Test Case 3:\n",
      "- Input: `number = 7`\n",
      "- Expected Output: The factorial of 7 is 5040\n",
      "\n",
      "Result: PASS\n",
      "\n",
      "All test cases passed successfully. The factorial function is correctly calculating the factorial of the input numbers.\n",
      "\n",
      "All tests passed. No debugging necessary.\n"
     ]
    }
   ],
   "source": [
    "def generate_code(task):\n",
    "    prompt = f\"Write a Python function to {task}. Include comments explaining the code.\"\n",
    "    return get_completion(prompt)\n",
    "\n",
    "def generate_test_cases(code):\n",
    "    prompt = f\"Given the following Python code, generate 3 test cases to verify its functionality. Include both input and expected output for each test case:\\n\\n{code}\"\n",
    "    return get_completion(prompt)\n",
    "\n",
    "def run_tests(code, test_cases):\n",
    "    prompt = f\"\"\"\n",
    "    Given the following Python code and test cases, run the tests and report the results. \n",
    "    If any tests fail, explain why and suggest fixes.\n",
    "\n",
    "    Code:\n",
    "    {code}\n",
    "\n",
    "    Test Cases:\n",
    "    {test_cases}\n",
    "\n",
    "    For each test case, respond with:\n",
    "    1. \"PASS\" if the test passes\n",
    "    2. \"FAIL\" if the test fails, along with an explanation of why it failed and a suggested fix\n",
    "    \"\"\"\n",
    "    return get_completion(prompt)\n",
    "\n",
    "def debug_code(code, test_results):\n",
    "    prompt = f\"\"\"\n",
    "    Given the following Python code and test results, debug the code to fix any issues.\n",
    "    Provide the corrected code along with explanations of the changes made.\n",
    "\n",
    "    Original Code:\n",
    "    {code}\n",
    "\n",
    "    Test Results:\n",
    "    {test_results}\n",
    "    \"\"\"\n",
    "    return get_completion(prompt)\n",
    "\n",
    "def code_generation_with_debugging(task):\n",
    "    print(f\"Generating code for task: {task}\")\n",
    "    \n",
    "    # Step 1: Generate initial code\n",
    "    initial_code = generate_code(task)\n",
    "    print(\"\\nInitial Code:\")\n",
    "    print(initial_code)\n",
    "\n",
    "    # Step 2: Generate test cases\n",
    "    test_cases = generate_test_cases(initial_code)\n",
    "    print(\"\\nGenerated Test Cases:\")\n",
    "    print(test_cases)\n",
    "\n",
    "    # Step 3: Run tests\n",
    "    test_results = run_tests(initial_code, test_cases)\n",
    "    print(\"\\nTest Results:\")\n",
    "    print(test_results)\n",
    "\n",
    "    # Step 4: Debug code if necessary\n",
    "    if \"FAIL\" in test_results:\n",
    "        print(\"\\nDebugging code...\")\n",
    "        debugged_code = debug_code(initial_code, test_results)\n",
    "        print(\"\\nDebugged Code:\")\n",
    "        print(debugged_code)\n",
    "        \n",
    "        # Optionally, you can run tests again on the debugged code\n",
    "        print(\"\\nRe-running tests on debugged code...\")\n",
    "        final_test_results = run_tests(debugged_code, test_cases)\n",
    "        print(\"\\nFinal Test Results:\")\n",
    "        print(final_test_results)\n",
    "        \n",
    "        return debugged_code\n",
    "    else:\n",
    "        print(\"\\nAll tests passed. No debugging necessary.\")\n",
    "        return initial_code\n",
    "\n",
    "# Example usage\n",
    "task = \"calculate the factorial of a number\"\n",
    "final_code = code_generation_with_debugging(task)"
   ]
  },
  {
   "cell_type": "markdown",
   "metadata": {},
   "source": [
    "The `generate_code()` function generates initial Python code for the given task. The `generate_test_cases()` function creates test cases for the generated code. The `run_tests()` function simulates running the test cases and reports the results. If any tests fail, the `debug_code()` function attempts to debug and fix the code. The `code_generation_with_debugging()` function orchestrates the entire process: it generates initial code for the task, creates test cases for the code, runs the tests and checks the results, and if any tests fail, it debugs the code and optionally re-runs the tests.\n",
    "\n",
    "The prompt chaining occurs in several steps: initial code generation based on the task description, test case generation based on the initial code, test execution and result reporting based on the code and test cases, and if necessary, debugging based on the original code and test results.\n",
    "\n",
    "This demonstrates how prompt chaining can be used for complex tasks like code generation and debugging. It breaks down the software development process into smaller, manageable steps (generate, test, debug). Each step uses the output of the previous step as input, allowing for an iterative approach to code development and improvement.\n"
   ]
  },
  {
   "cell_type": "markdown",
   "metadata": {},
   "source": [
    "### Multi-Step Reasoning Tasks\n",
    "Prompt chaining can be used to solve complex problems requiring multiple reasoning steps, such as mathematical word problems or logical puzzles. Each step builds on the previous one, ensuring a structured and thorough approach.\n"
   ]
  },
  {
   "cell_type": "code",
   "execution_count": 53,
   "metadata": {},
   "outputs": [
    {
     "name": "stdout",
     "output_type": "stream",
     "text": [
      "Solving problem: A car travels 60 miles per hour for 2 hours, then 40 miles per hour for 3 hours. What is the total distance traveled by the car?\n",
      "\n",
      "Step 1: Step 1: Calculate the distance traveled at 60 miles per hour for 2 hours.\n",
      "Explanation: To find the distance traveled at 60 miles per hour for 2 hours, we use the formula: distance = speed × time. \n",
      "Distance = 60 miles/hour × 2 hours = 120 miles.\n",
      "\n",
      "SOLUTION COMPLETE\n",
      "\n",
      "Final Solution:\n",
      "The distance traveled at 60 miles per hour for 2 hours is 120 miles.\n"
     ]
    }
   ],
   "source": [
    "def solve_step_by_step(problem, max_steps=5):\n",
    "    steps = []\n",
    "    current_problem = problem\n",
    "    for step_num in range(1, max_steps + 1):\n",
    "        prompt = f\"\"\"\n",
    "        Solve the following problem step by step. Provide step {step_num} only and explain it clearly.\n",
    "        If this step completes the solution, explicitly state 'SOLUTION COMPLETE' at the end.\n",
    "        \n",
    "        Problem: {current_problem}\n",
    "        \"\"\"\n",
    "        step = get_completion(prompt)\n",
    "        if step is None:\n",
    "            break\n",
    "        steps.append(step)\n",
    "        print(f\"Step {step_num}: {step}\\n\")\n",
    "        if \"SOLUTION COMPLETE\" in step:\n",
    "            break\n",
    "        current_problem = f\"{current_problem}\\n\\nStep {step_num}: {step}\"\n",
    "    return steps\n",
    "\n",
    "def combine_steps(steps):\n",
    "    combined_steps = \"\\n\".join(steps)\n",
    "    prompt = f\"Summarize the following solution steps into a concise final answer:\\n\\n{combined_steps}\"\n",
    "    return get_completion(prompt)\n",
    "\n",
    "def multi_step_reasoning(problem):\n",
    "    print(f\"Solving problem: {problem}\\n\")\n",
    "    \n",
    "    # Step 1: Solve step by step\n",
    "    steps = solve_step_by_step(problem)\n",
    "    \n",
    "    # Step 2: Combine steps into a final solution\n",
    "    if steps:\n",
    "        final_solution = combine_steps(steps)\n",
    "        print(\"Final Solution:\")\n",
    "        print(final_solution)\n",
    "        return final_solution\n",
    "    else:\n",
    "        print(\"Unable to solve the problem.\")\n",
    "        return None\n",
    "\n",
    "# Example usage\n",
    "problem = \"A car travels 60 miles per hour for 2 hours, then 40 miles per hour for 3 hours. What is the total distance traveled by the car?\"\n",
    "final_solution = multi_step_reasoning(problem)"
   ]
  },
  {
   "cell_type": "markdown",
   "metadata": {},
   "source": [
    "The `get_completion()` function sends a prompt to the OpenAI API and returns the generated response. The `solve_step_by_step()` function breaks down the problem into smaller steps by repeatedly prompting the model to provide the next step in solving the problem. It stops when the model indicates that the solution is complete or if no further steps are provided, and each step is appended to a list of steps. The `combine_steps()` function combines all the individual steps into a coherent final solution by prompting the model to merge the steps into a single, comprehensive explanation. The `multi_step_reasoning()` function orchestrates the entire process: it starts by solving the problem step by step, then combines the steps into a final solution.\n",
    "\n",
    "The example problem is: \"A car travels 60 miles per hour for 2 hours, then 40 miles per hour for 3 hours. What is the total distance traveled by the car?\"\n",
    "\n",
    "The problem is provided to the model to start the step-by-step solution process. The model is prompted to provide the next step in solving the problem, and each step is collected and printed. Once all steps are collected, they are combined into a final, coherent solution.\n",
    "\n"
   ]
  },
  {
   "cell_type": "markdown",
   "metadata": {},
   "source": []
  }
 ],
 "metadata": {
  "kernelspec": {
   "display_name": "Python 3",
   "language": "python",
   "name": "python3"
  },
  "language_info": {
   "codemirror_mode": {
    "name": "ipython",
    "version": 3
   },
   "file_extension": ".py",
   "mimetype": "text/x-python",
   "name": "python",
   "nbconvert_exporter": "python",
   "pygments_lexer": "ipython3",
   "version": "3.9.1"
  }
 },
 "nbformat": 4,
 "nbformat_minor": 2
}
